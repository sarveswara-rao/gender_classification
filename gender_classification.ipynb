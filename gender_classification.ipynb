{
  "nbformat": 4,
  "nbformat_minor": 0,
  "metadata": {
    "colab": {
      "name": "gender_classification.ipynb",
      "version": "0.3.2",
      "provenance": [],
      "collapsed_sections": []
    },
    "kernelspec": {
      "name": "python3",
      "display_name": "Python 3"
    }
  },
  "cells": [
    {
      "cell_type": "markdown",
      "metadata": {
        "id": "_XbyODBmeKOl",
        "colab_type": "text"
      },
      "source": [
        "**Gender Classification**\n",
        "\n",
        "The code uses the scikit-learn machine learning library to train a decision tree, Logistic regression and Support Vector Machine on a small dataset of body metrics (height, width, and shoe size) labeled male or female. Then we can predict the gender of someone given a novel set of body metrics."
      ]
    },
    {
      "cell_type": "markdown",
      "metadata": {
        "id": "maLC1wBZfWG0",
        "colab_type": "text"
      },
      "source": [
        "**Dependencies**\n",
        "\n",
        "*   Scikit-learn [Guide for Installation](https://scikit-learn.org/stable/install.html)\n",
        "\n",
        "\n",
        "*   Numpy ( pip install numpy )\n",
        "*   Scipy ( pip install scipy )\n",
        "\n",
        "\n"
      ]
    },
    {
      "cell_type": "code",
      "metadata": {
        "id": "vgqZ7JA31vhb",
        "colab_type": "code",
        "outputId": "a9ba8fc0-27ae-4acc-f531-50bcf98a1fb2",
        "colab": {
          "base_uri": "https://localhost:8080/",
          "height": 34
        }
      },
      "source": [
        "#helper libraries\n",
        "from sklearn import tree\n",
        "from sklearn.linear_model import LogisticRegression\n",
        "from sklearn.svm import SVC\n",
        "\n",
        "#[height, weight, shoe size]\n",
        "X = [[181, 80, 44], [177, 70, 43], [160, 60, 38], [154, 54, 37], [166, 65, 40],\n",
        "     [190, 90, 47], [175, 64, 39],\n",
        "     [177, 70, 40], [159, 55, 37], [171, 75, 42], [181, 85, 43]]\n",
        "\n",
        "#coresponding label 1-male, 0-female\n",
        "Y = [1, 1, 0, 0, 1, 1, 0, 0, 0, 1, 1]\n",
        "\n",
        "#Creating an instance of classifiers\n",
        "clf_dt = tree.DecisionTreeClassifier()\n",
        "clf_lr = LogisticRegression(solver = 'lbfgs')\n",
        "clf_svm = SVC(gamma = 'scale')\n",
        "\n",
        "#training\n",
        "clf_dt.fit(X, Y)\n",
        "pred_1 = clf_dt.predict([[190, 70, 43]])\n",
        "\n",
        "clf_lr.fit(X, Y)\n",
        "pred_2 = clf_lr.predict([[190, 70, 43]])\n",
        "\n",
        "clf_svm.fit(X, Y)\n",
        "pred_3 = clf_svm.predict([[190, 70, 43]])\n",
        "\n",
        "final_prediction = (pred_1 + pred_2 + pred_3) / 3\n",
        "\n",
        "if final_prediction[0] > 0.5:\n",
        "  print('Predicted Gender: Male')\n",
        "else:\n",
        "  print('Predicted Gender: Female')"
      ],
      "execution_count": 12,
      "outputs": [
        {
          "output_type": "stream",
          "text": [
            "Predicted Gender: Male\n"
          ],
          "name": "stdout"
        }
      ]
    },
    {
      "cell_type": "markdown",
      "metadata": {
        "id": "Gd8-Z_Unh5NM",
        "colab_type": "text"
      },
      "source": [
        "**Credits**\n",
        "Credits for some of the code goes to [Siraj Raval](https://github.com/llSourcell)"
      ]
    }
  ]
}